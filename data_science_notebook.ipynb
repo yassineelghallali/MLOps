{
  "nbformat": 4,
  "nbformat_minor": 0,
  "metadata": {
    "colab": {
      "private_outputs": true,
      "provenance": [],
      "gpuType": "V28",
      "cell_execution_strategy": "setup",
      "toc_visible": true,
      "authorship_tag": "ABX9TyOp0kA8bVGkgrBi6SZGTjGo",
      "include_colab_link": true
    },
    "kernelspec": {
      "name": "python3",
      "display_name": "Python 3"
    },
    "language_info": {
      "name": "python"
    },
    "accelerator": "TPU"
  },
  "cells": [
    {
      "cell_type": "markdown",
      "metadata": {
        "id": "view-in-github",
        "colab_type": "text"
      },
      "source": [
        "<a href=\"https://colab.research.google.com/github/yassineelghallali/MLOps/blob/main/data_science_notebook.ipynb\" target=\"_parent\"><img src=\"https://colab.research.google.com/assets/colab-badge.svg\" alt=\"Open In Colab\"/></a>"
      ]
    },
    {
      "cell_type": "markdown",
      "source": [
        "## Ingrest"
      ],
      "metadata": {
        "id": "DCrIaMMkeAVo"
      }
    },
    {
      "cell_type": "markdown",
      "source": [
        "Covid-19 Data from [New York GitHub](https://github.com/nytimes/covid-19-data)\n"
      ],
      "metadata": {
        "id": "hvZi9cEAiznA"
      }
    },
    {
      "cell_type": "code",
      "source": [
        "import pandas as pd\n",
        "df = pd.read_csv(\"https://raw.githubusercontent.com/nytimes/covid-19-data/master/us-states.csv\")\n",
        "df"
      ],
      "metadata": {
        "id": "gX60E-ejeE3V"
      },
      "execution_count": null,
      "outputs": []
    },
    {
      "cell_type": "markdown",
      "source": [
        "last 5 rows"
      ],
      "metadata": {
        "id": "iklq_AOJjzdt"
      }
    },
    {
      "cell_type": "code",
      "source": [
        "df.tail()"
      ],
      "metadata": {
        "id": "8KBTPfaDjvaA"
      },
      "execution_count": null,
      "outputs": []
    },
    {
      "cell_type": "markdown",
      "source": [
        "What are the columns"
      ],
      "metadata": {
        "id": "8ocmVX8jkJld"
      }
    },
    {
      "cell_type": "code",
      "source": [
        "df.columns"
      ],
      "metadata": {
        "id": "rUGSO-ljjxBX"
      },
      "execution_count": null,
      "outputs": []
    },
    {
      "cell_type": "markdown",
      "source": [
        "What is the shape, i.e. rows,columns"
      ],
      "metadata": {
        "id": "4rnPN9kkkXmM"
      }
    },
    {
      "cell_type": "code",
      "source": [
        "df.shape"
      ],
      "metadata": {
        "id": "LntvYRpDkabZ"
      },
      "execution_count": null,
      "outputs": []
    },
    {
      "cell_type": "markdown",
      "source": [
        "## EDA"
      ],
      "metadata": {
        "id": "myqkh4rXeGUy"
      }
    },
    {
      "cell_type": "markdown",
      "source": [
        "What are general charcteristics of th data? A good way to find out is pd.describe()"
      ],
      "metadata": {
        "id": "eoWoGB8tlhqs"
      }
    },
    {
      "cell_type": "code",
      "source": [
        "df.describe()"
      ],
      "metadata": {
        "id": "QuchTbS-eSkJ"
      },
      "execution_count": null,
      "outputs": []
    },
    {
      "cell_type": "markdown",
      "source": [
        "Cases and Deaths in the USA due to Covid-19"
      ],
      "metadata": {
        "id": "6DJSZN0lnKE5"
      }
    },
    {
      "cell_type": "code",
      "source": [
        "import matplotlib.pyplot as plt\n",
        "import seaborn as sns\n",
        "\n",
        "sns.scatterplot(x=\"cases\", y=\"deaths\", hue=\"deaths\", size=\"deaths\", data=df)\n",
        "plt.show()"
      ],
      "metadata": {
        "id": "qX87TYp7nWER"
      },
      "execution_count": null,
      "outputs": []
    },
    {
      "cell_type": "markdown",
      "source": [
        "### Date-based EDA"
      ],
      "metadata": {
        "id": "pR0uh7gemC67"
      }
    },
    {
      "cell_type": "markdown",
      "source": [
        "Dealing with dates setting index"
      ],
      "metadata": {
        "id": "yL955ttdmNGh"
      }
    },
    {
      "cell_type": "code",
      "source": [
        "df = pd.read_csv(\"https://raw.githubusercontent.com/nytimes/covid-19-data/master/us-states.csv\")\n",
        "df[\"date\"] = pd.to_datetime(df[\"date\"])\n",
        "df = df.set_index(\"date\")\n",
        "print(df.columns)\n",
        "df.index"
      ],
      "metadata": {
        "id": "NumP-C-XmYBr"
      },
      "execution_count": null,
      "outputs": []
    },
    {
      "cell_type": "markdown",
      "source": [
        "Filter results by date range"
      ],
      "metadata": {
        "id": "_IXH_bdOnC22"
      }
    },
    {
      "cell_type": "code",
      "source": [
        "from datetime import date, timedelta\n",
        "today = date.today()\n",
        "daybefore = today - timedelta(days= 2)\n",
        "print(f\"Today {today}\")\n",
        "print(f\"Two days ago {daybefore}\")"
      ],
      "metadata": {
        "id": "pxpuLiqMnOVE"
      },
      "execution_count": null,
      "outputs": []
    },
    {
      "cell_type": "code",
      "source": [
        "df.loc[daybefore:today].head()"
      ],
      "metadata": {
        "id": "-PbegN3uoKX7"
      },
      "execution_count": null,
      "outputs": []
    },
    {
      "cell_type": "markdown",
      "source": [
        "The distribution of the data by date"
      ],
      "metadata": {
        "id": "GcAoB_V2om_B"
      }
    },
    {
      "cell_type": "code",
      "source": [
        "sns.kdeplot(df.loc[daybefore:today][\"deaths\"], fill=True)\n",
        "plt.show()"
      ],
      "metadata": {
        "id": "_Zd8xgmTowM3"
      },
      "execution_count": null,
      "outputs": []
    },
    {
      "cell_type": "markdown",
      "source": [
        "Sort DataFrame in place by states with highest deaths and cases and show first 10 results"
      ],
      "metadata": {
        "id": "OLJWo4AhqH2_"
      }
    },
    {
      "cell_type": "code",
      "source": [
        "current_df = df.loc[daybefore:today].sort_values(by=[\"deaths\", \"cases\"], ascending=False)\n",
        "current_df.head(10)"
      ],
      "metadata": {
        "id": "p-p3ffDUqbHr"
      },
      "execution_count": null,
      "outputs": []
    },
    {
      "cell_type": "markdown",
      "source": [
        "## Modeling"
      ],
      "metadata": {
        "id": "TeNxznqPeTm9"
      }
    },
    {
      "cell_type": "code",
      "source": [],
      "metadata": {
        "id": "20MTNB2mmWxq"
      },
      "execution_count": null,
      "outputs": []
    },
    {
      "cell_type": "markdown",
      "source": [
        "### Classification Algorithm A"
      ],
      "metadata": {
        "id": "Loz3yaI2fAoI"
      }
    },
    {
      "cell_type": "code",
      "source": [],
      "metadata": {
        "id": "2p5iNz9EeVzK"
      },
      "execution_count": null,
      "outputs": []
    },
    {
      "cell_type": "markdown",
      "source": [
        "### Classification Algorithm B"
      ],
      "metadata": {
        "id": "kwRAAwC8fDo3"
      }
    },
    {
      "cell_type": "code",
      "source": [],
      "metadata": {
        "id": "LaYVg2Y3fHwn"
      },
      "execution_count": null,
      "outputs": []
    },
    {
      "cell_type": "markdown",
      "source": [
        "## Conclusion"
      ],
      "metadata": {
        "id": "wyXFYmOtebQ7"
      }
    },
    {
      "cell_type": "code",
      "source": [],
      "metadata": {
        "id": "ensgC5zYeeDY"
      },
      "execution_count": null,
      "outputs": []
    }
  ]
}