{
  "nbformat": 4,
  "nbformat_minor": 0,
  "metadata": {
    "colab": {
      "private_outputs": true,
      "provenance": [],
      "gpuType": "V28",
      "cell_execution_strategy": "setup",
      "toc_visible": true,
      "authorship_tag": "ABX9TyNjcHl3QRTJVWET9K9hto8n",
      "include_colab_link": true
    },
    "kernelspec": {
      "name": "python3",
      "display_name": "Python 3"
    },
    "language_info": {
      "name": "python"
    },
    "accelerator": "TPU"
  },
  "cells": [
    {
      "cell_type": "markdown",
      "metadata": {
        "id": "view-in-github",
        "colab_type": "text"
      },
      "source": [
        "<a href=\"https://colab.research.google.com/github/yassineelghallali/MLOps/blob/main/data_science_notebook.ipynb\" target=\"_parent\"><img src=\"https://colab.research.google.com/assets/colab-badge.svg\" alt=\"Open In Colab\"/></a>"
      ]
    },
    {
      "cell_type": "markdown",
      "source": [
        "## Ingrest"
      ],
      "metadata": {
        "id": "DCrIaMMkeAVo"
      }
    },
    {
      "cell_type": "code",
      "source": [],
      "metadata": {
        "id": "gX60E-ejeE3V"
      },
      "execution_count": null,
      "outputs": []
    },
    {
      "cell_type": "markdown",
      "source": [
        "## EDA"
      ],
      "metadata": {
        "id": "myqkh4rXeGUy"
      }
    },
    {
      "cell_type": "code",
      "source": [],
      "metadata": {
        "id": "QuchTbS-eSkJ"
      },
      "execution_count": null,
      "outputs": []
    },
    {
      "cell_type": "markdown",
      "source": [
        "## Modeling"
      ],
      "metadata": {
        "id": "TeNxznqPeTm9"
      }
    },
    {
      "cell_type": "markdown",
      "source": [
        "### Classification Algorithm A"
      ],
      "metadata": {
        "id": "Loz3yaI2fAoI"
      }
    },
    {
      "cell_type": "code",
      "source": [],
      "metadata": {
        "id": "2p5iNz9EeVzK"
      },
      "execution_count": null,
      "outputs": []
    },
    {
      "cell_type": "markdown",
      "source": [
        "### Classification Algorithm B"
      ],
      "metadata": {
        "id": "kwRAAwC8fDo3"
      }
    },
    {
      "cell_type": "code",
      "source": [],
      "metadata": {
        "id": "LaYVg2Y3fHwn"
      },
      "execution_count": null,
      "outputs": []
    },
    {
      "cell_type": "markdown",
      "source": [
        "## Conclusion"
      ],
      "metadata": {
        "id": "wyXFYmOtebQ7"
      }
    },
    {
      "cell_type": "code",
      "source": [],
      "metadata": {
        "id": "ensgC5zYeeDY"
      },
      "execution_count": null,
      "outputs": []
    }
  ]
}